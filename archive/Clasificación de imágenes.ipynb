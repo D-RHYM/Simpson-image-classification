{
 "cells": [
  {
   "cell_type": "markdown",
   "id": "6af97333",
   "metadata": {},
   "source": [
    "Importamos librerías necesarias y obtenemos las etiquetas a partir de la ruta de cada carpeta"
   ]
  },
  {
   "cell_type": "code",
   "execution_count": 8,
   "id": "f61eab23",
   "metadata": {},
   "outputs": [
    {
     "name": "stdout",
     "output_type": "stream",
     "text": [
      "Número de imágenes: 41866\n",
      "\n",
      "Número de etiquetas únicas: 42\n",
      "\n",
      "Etiquetas: ['mayor_quimby' 'bart_simpson' 'charles_montgomery_burns' 'homer_simpson'\n",
      " 'ned_flanders' 'kent_brockman' 'principal_skinner' 'sideshow_bob'\n",
      " 'edna_krabappel' 'lenny_leonard' 'carl_carlson' 'chief_wiggum'\n",
      " 'krusty_the_clown' 'groundskeeper_willie' 'moe_szyslak' 'marge_simpson'\n",
      " 'milhouse_van_houten' 'lisa_simpson' 'martin_prince' 'selma_bouvier'\n",
      " 'abraham_grampa_simpson' 'nelson_muntz' 'apu_nahasapeemapetilon'\n",
      " 'ralph_wiggum' 'barney_gumble' 'agnes_skinner' 'waylon_smithers'\n",
      " 'maggie_simpson' 'cletus_spuckler' 'comic_book_guy' 'otto_mann'\n",
      " 'disco_stu' 'rainier_wolfcastle' 'patty_bouvier' 'snake_jailbird'\n",
      " 'fat_tony' 'professor_john_frink' 'gil' 'miss_hoover' 'sideshow_mel'\n",
      " 'lionel_hutz' 'troy_mcclure']\n"
     ]
    },
    {
     "data": {
      "text/html": [
       "<div>\n",
       "<style scoped>\n",
       "    .dataframe tbody tr th:only-of-type {\n",
       "        vertical-align: middle;\n",
       "    }\n",
       "\n",
       "    .dataframe tbody tr th {\n",
       "        vertical-align: top;\n",
       "    }\n",
       "\n",
       "    .dataframe thead th {\n",
       "        text-align: right;\n",
       "    }\n",
       "</style>\n",
       "<table border=\"1\" class=\"dataframe\">\n",
       "  <thead>\n",
       "    <tr style=\"text-align: right;\">\n",
       "      <th></th>\n",
       "      <th>Filepath</th>\n",
       "      <th>Label</th>\n",
       "    </tr>\n",
       "  </thead>\n",
       "  <tbody>\n",
       "    <tr>\n",
       "      <th>0</th>\n",
       "      <td>simpsons_dataset\\mayor_quimby\\pic_0206.jpg</td>\n",
       "      <td>mayor_quimby</td>\n",
       "    </tr>\n",
       "    <tr>\n",
       "      <th>1</th>\n",
       "      <td>simpsons_dataset\\bart_simpson\\pic_0987.jpg</td>\n",
       "      <td>bart_simpson</td>\n",
       "    </tr>\n",
       "    <tr>\n",
       "      <th>2</th>\n",
       "      <td>simpsons_dataset\\charles_montgomery_burns\\pic_...</td>\n",
       "      <td>charles_montgomery_burns</td>\n",
       "    </tr>\n",
       "    <tr>\n",
       "      <th>3</th>\n",
       "      <td>simpsons_dataset\\simpsons_dataset\\homer_simpso...</td>\n",
       "      <td>homer_simpson</td>\n",
       "    </tr>\n",
       "    <tr>\n",
       "      <th>4</th>\n",
       "      <td>simpsons_dataset\\simpsons_dataset\\ned_flanders...</td>\n",
       "      <td>ned_flanders</td>\n",
       "    </tr>\n",
       "  </tbody>\n",
       "</table>\n",
       "</div>"
      ],
      "text/plain": [
       "                                            Filepath                     Label\n",
       "0         simpsons_dataset\\mayor_quimby\\pic_0206.jpg              mayor_quimby\n",
       "1         simpsons_dataset\\bart_simpson\\pic_0987.jpg              bart_simpson\n",
       "2  simpsons_dataset\\charles_montgomery_burns\\pic_...  charles_montgomery_burns\n",
       "3  simpsons_dataset\\simpsons_dataset\\homer_simpso...             homer_simpson\n",
       "4  simpsons_dataset\\simpsons_dataset\\ned_flanders...              ned_flanders"
      ]
     },
     "execution_count": 8,
     "metadata": {},
     "output_type": "execute_result"
    }
   ],
   "source": [
    "import numpy as np\n",
    "import pandas as pd\n",
    "from pathlib import Path\n",
    "import os.path\n",
    "import matplotlib.pyplot as plt\n",
    "import tensorflow as tf\n",
    "from sklearn.model_selection import train_test_split\n",
    "\n",
    "def proc_img(filepath):\n",
    "    \"\"\" Se crea un DataFrame con el path del fichero y su correspondiente etiqueta\n",
    "    \"\"\"\n",
    "\n",
    "    labels = list(map(lambda x: os.path.split(os.path.split(x)[0])[1], filepath))\n",
    "\n",
    "    filepath = pd.Series(filepath, name='Filepath').astype(str)\n",
    "    labels = pd.Series(labels, name='Label')\n",
    "\n",
    "    # Se concatenan las etiquetas y los paths\n",
    "    df = pd.concat([filepath, labels], axis=1)\n",
    "\n",
    "    # Se reinician los índices\n",
    "    df = df.sample(frac=1).reset_index(drop = True)\n",
    "    \n",
    "    return df\n",
    "\n",
    "# Se especifica cuál es el directorio de entrenamiento\n",
    "train_dir = Path('./simpsons_dataset')\n",
    "filepaths = list(train_dir.glob(r'**/*.jpg'))\n",
    "\n",
    "# Obtenemos el DataFrame con las etiquetas y los paths\n",
    "df = proc_img(filepaths)\n",
    "\n",
    "print(f'Número de imágenes: {df.shape[0]}\\n')\n",
    "print(f'Número de etiquetas únicas: {len(df.Label.unique())}\\n')\n",
    "print(f'Etiquetas: {df.Label.unique()}')\n",
    "\n",
    "# Comprobamos que se ha hecho correctamente\n",
    "df.head(5)"
   ]
  }
 ],
 "metadata": {
  "kernelspec": {
   "display_name": "Python 3 (ipykernel)",
   "language": "python",
   "name": "python3"
  },
  "language_info": {
   "codemirror_mode": {
    "name": "ipython",
    "version": 3
   },
   "file_extension": ".py",
   "mimetype": "text/x-python",
   "name": "python",
   "nbconvert_exporter": "python",
   "pygments_lexer": "ipython3",
   "version": "3.9.7"
  }
 },
 "nbformat": 4,
 "nbformat_minor": 5
}
